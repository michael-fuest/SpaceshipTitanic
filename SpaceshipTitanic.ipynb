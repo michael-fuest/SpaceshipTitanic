{
 "cells": [
  {
   "cell_type": "code",
   "execution_count": 321,
   "metadata": {},
   "outputs": [],
   "source": [
    "import pandas as pd\n",
    "import sklearn as sk\n",
    "import seaborn as sns\n",
    "import matplotlib.pyplot as plt\n",
    "import boruta as br\n",
    "import numpy as np"
   ]
  },
  {
   "cell_type": "code",
   "execution_count": 322,
   "metadata": {},
   "outputs": [],
   "source": [
    "#Reading in test and train datasets\n",
    "filepath = './data/'\n",
    "df_train = pd.read_csv(filepath + 'train.csv')\n",
    "df_test = pd.read_csv(filepath + 'test.csv')"
   ]
  },
  {
   "cell_type": "code",
   "execution_count": 323,
   "metadata": {},
   "outputs": [],
   "source": [
    "#Setting up pre-processing pipeline\n",
    "from sklearn.compose import ColumnTransformer\n",
    "from sklearn.impute import KNNImputer\n",
    "from sklearn.impute import SimpleImputer\n",
    "from sklearn.preprocessing import OneHotEncoder\n",
    "from sklearn.preprocessing import StandardScaler\n",
    "from sklearn import set_config\n",
    "\n",
    "#Telling sklearn that we want to output dataframes\n",
    "set_config(transform_output='pandas')\n",
    "\n",
    "#Defining numerical and categorical columns in df_train\n",
    "cat_vars = ['HomePlanet', 'CryoSleep', 'Destination', 'Cabin', 'VIP']\n",
    "num_vars = ['Age', 'RoomService', 'FoodCourt', 'ShoppingMall', 'Spa', 'VRDeck']"
   ]
  },
  {
   "cell_type": "code",
   "execution_count": 324,
   "metadata": {},
   "outputs": [],
   "source": [
    "from sklearn.base import BaseEstimator, TransformerMixin\n",
    "\n",
    "\n",
    "class CatVariablesAdder(BaseEstimator, TransformerMixin):\n",
    "    \n",
    "    def __init__(self):\n",
    "        pass\n",
    "    \n",
    "    def fit(self, X, y=None):\n",
    "        return self\n",
    "    \n",
    "    def transform(self, X):\n",
    "        '''Creates new categorical variables.\n",
    "            starboard: whether the cabin is on the starboard side of the ship\n",
    "            deck: the deck the passenger is on\n",
    "        '''\n",
    "        X['starboard'] = X.apply(lambda x: 1 if x['Cabin'][-1] == 'S' else 0, axis=1)\n",
    "        X['deck'] = X['Cabin'].str[0]\n",
    "        return X\n",
    "    \n",
    "class NumVariablesAdder(BaseEstimator, TransformerMixin):\n",
    "    \n",
    "    def __init__(self, columns):\n",
    "        self.columns = columns\n",
    "    \n",
    "    def fit(self, X, y=None):\n",
    "        return self\n",
    "    \n",
    "    def transform(self, X):\n",
    "        '''Creates new numerical variables.\n",
    "            roommates: the number of roommates the passenger has\n",
    "        '''\n",
    "        X['roommates'] = self.columns.map(self.columns.value_counts())\n",
    "        return X\n",
    "\n",
    "class ColumnDropper(BaseEstimator, TransformerMixin):\n",
    "    def __init__(self, columns):\n",
    "        self.columns = columns\n",
    "\n",
    "    def fit(self, X, y=None):\n",
    "        return self\n",
    "\n",
    "    def transform(self, X):\n",
    "        X.drop(self.columns, axis=1, inplace=True)\n",
    "        return X"
   ]
  },
  {
   "cell_type": "code",
   "execution_count": 325,
   "metadata": {},
   "outputs": [],
   "source": [
    "#Defining the data pipelines\n",
    "from sklearn.pipeline import Pipeline\n",
    "\n",
    "num_pipeline = Pipeline([\n",
    "    ('imputer', KNNImputer(n_neighbors=5)),\n",
    "    ('new_variables_adder', NumVariablesAdder(df_train['Cabin'])),\n",
    "    ('std_scaler', StandardScaler())\n",
    "])\n",
    "\n",
    "cat_pipeline = Pipeline([\n",
    "    ('imputer', SimpleImputer(strategy='most_frequent')),\n",
    "    ('new_variables_adder', CatVariablesAdder()),\n",
    "    ('column dropper', ColumnDropper('Cabin')),\n",
    "    ('one_hot_encoder', OneHotEncoder(sparse_output = False)),\n",
    "])"
   ]
  },
  {
   "cell_type": "code",
   "execution_count": 326,
   "metadata": {},
   "outputs": [],
   "source": [
    "#Adding data pipelines to Column Transformer\n",
    "from sklearn.compose import ColumnTransformer\n",
    "\n",
    "data_pipeline = ColumnTransformer([\n",
    "    ('numerical', num_pipeline, num_vars),\n",
    "    ('categorical', cat_pipeline, cat_vars)\n",
    "])\n",
    "\n",
    "#Transforming the data\n",
    "df_train_processed = data_pipeline.fit_transform(df_train)\n",
    "df_test_processed = data_pipeline.fit_transform(df_test)"
   ]
  },
  {
   "cell_type": "code",
   "execution_count": null,
   "metadata": {},
   "outputs": [],
   "source": [
    "#Adding modeling to pipeline\n",
    "from sklearn.ensemble import RandomForestClassifier\n",
    "from sklearn.ensemble import GradientBoostingClassifier\n",
    "from sklearn.ensemble import AdaBoostClassifier\n",
    "\n",
    "rf_model_pipeline = Pipeline([\n",
    "    ('preprocessor', data_pipeline),\n",
    "    ('model', RandomForestClassifier(n_estimators=100, \n",
    "                                      max_depth=10, \n",
    "                                      class_weight='balanced', \n",
    "                                      random_state=123, \n",
    "                                      verbose=0))\n",
    "])\n",
    "\n",
    "ada_model_pipeline = Pipeline([\n",
    "    ('preprocessor', data_pipeline),\n",
    "    ('model', AdaBoostClassifier(n_estimators=100,\n",
    "                                        learning_rate=0.1,\n",
    "                                        random_state=123,\n",
    "                                        verbose=0))\n",
    "])\n",
    "\n",
    "gb_model_pipeline = Pipeline([\n",
    "    ('preprocessor', data_pipeline),\n",
    "    ('model', GradientBoostingClassifier(n_estimators=100,\n",
    "                                            max_depth=10,\n",
    "                                            learning_rate=0.1,\n",
    "                                            random_state=123,\n",
    "                                            verbose=0))\n",
    "])\n"
   ]
  }
 ],
 "metadata": {
  "kernelspec": {
   "display_name": "env",
   "language": "python",
   "name": "python3"
  },
  "language_info": {
   "codemirror_mode": {
    "name": "ipython",
    "version": 3
   },
   "file_extension": ".py",
   "mimetype": "text/x-python",
   "name": "python",
   "nbconvert_exporter": "python",
   "pygments_lexer": "ipython3",
   "version": "3.9.13"
  },
  "orig_nbformat": 4,
  "vscode": {
   "interpreter": {
    "hash": "19348e875bf2b969a1a986b4a58ef26d80a74b442efcafffa90e1d97deab2d1c"
   }
  }
 },
 "nbformat": 4,
 "nbformat_minor": 2
}
